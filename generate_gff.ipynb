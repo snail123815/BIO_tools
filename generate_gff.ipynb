{
 "cells": [
  {
   "cell_type": "code",
   "execution_count": 3,
   "id": "chemical-alarm",
   "metadata": {},
   "outputs": [],
   "source": [
    "from BCBio import GFF\n",
    "from Bio import SeqIO\n",
    "from Bio.SeqRecord import SeqRecord"
   ]
  },
  {
   "cell_type": "code",
   "execution_count": 4,
   "id": "challenging-heart",
   "metadata": {},
   "outputs": [],
   "source": [
    "genomeFile = 'alignment/genomeBuild/NZ_CP022438_S.peucetius_subsp.caesius_ATCC_27952_chromosome.gb'\n",
    "g = SeqIO.read(genomeFile, 'genbank')"
   ]
  },
  {
   "cell_type": "code",
   "execution_count": 5,
   "id": "premier-questionnaire",
   "metadata": {},
   "outputs": [
    {
     "data": {
      "text/plain": [
       "Bio.SeqRecord.SeqRecord"
      ]
     },
     "execution_count": 5,
     "metadata": {},
     "output_type": "execute_result"
    }
   ],
   "source": [
    "type(g)"
   ]
  },
  {
   "cell_type": "markdown",
   "id": "suspected-right",
   "metadata": {},
   "source": [
    "TODO: we can extract more feature types like rRNA and then filter after the counting has been done.\n",
    "Try the group features function to in featureCounts program (meta-feature level summarization)"
   ]
  },
  {
   "cell_type": "code",
   "execution_count": 11,
   "id": "reported-window",
   "metadata": {},
   "outputs": [],
   "source": [
    "# extract only genes to write to gff file\n",
    "onlyGenesRec = SeqRecord(g.seq, id=g.id, name='NZ_CP022438')\n",
    "genes = []\n",
    "for feat in g.features:\n",
    "    if feat.type == 'gene':\n",
    "        genes.append(feat)\n",
    "onlyGenesRec.features.extend(genes)"
   ]
  },
  {
   "cell_type": "code",
   "execution_count": 12,
   "id": "palestinian-challenge",
   "metadata": {},
   "outputs": [],
   "source": [
    "with open('alignment/genomeBuild/NZ_CP022438_S.peucetius_subsp.caesius_ATCC_27952_chromosome.gff', 'w') as f:\n",
    "    GFF.write([onlyGenesRec], f)"
   ]
  },
  {
   "cell_type": "code",
   "execution_count": 17,
   "id": "medium-limitation",
   "metadata": {},
   "outputs": [],
   "source": [
    "import BCBio"
   ]
  },
  {
   "cell_type": "code",
   "execution_count": 18,
   "id": "cultural-silence",
   "metadata": {},
   "outputs": [
    {
     "data": {
      "text/plain": [
       "['GFF',\n",
       " '__builtins__',\n",
       " '__cached__',\n",
       " '__doc__',\n",
       " '__file__',\n",
       " '__loader__',\n",
       " '__name__',\n",
       " '__package__',\n",
       " '__path__',\n",
       " '__spec__']"
      ]
     },
     "execution_count": 18,
     "metadata": {},
     "output_type": "execute_result"
    }
   ],
   "source": [
    "dir(BCBio)"
   ]
  },
  {
   "cell_type": "markdown",
   "id": "neither-serial",
   "metadata": {},
   "source": [
    "Convert GFF to GTF\n",
    "\n",
    "locus_tag=CGZ69_RS00005;old_locus_tag=CGZ69_00005\n",
    "\n",
    "locus_tag \"CGZ69_RS00005\";old_locus_tag \"CGZ69_00005\""
   ]
  },
  {
   "cell_type": "code",
   "execution_count": 23,
   "id": "sophisticated-method",
   "metadata": {},
   "outputs": [],
   "source": [
    "with open('alignment/genomeBuild/NZ_CP022438_S.peucetius_subsp.caesius_ATCC_27952_chromosome.gff', 'r') as s:\n",
    "    with open('alignment/genomeBuild/NZ_CP022438_S.peucetius_subsp.caesius_ATCC_27952_chromosome.gtf', 'w') as t:\n",
    "        for l in s.readlines():\n",
    "            if l.startswith('##'):\n",
    "                continue\n",
    "            l = l.strip()\n",
    "            elements = l.split('\\t')\n",
    "            rawAttributes = [e.split('=') for e in elements[-1].split(';')]\n",
    "            gtfAttrs = ';'.join([f'{a} \"{v}\"' for a,v in rawAttributes])\n",
    "            t.write('\\t'.join(elements[:-1]+[gtfAttrs])+'\\n')\n",
    "            "
   ]
  },
  {
   "cell_type": "markdown",
   "id": "military-exhibit",
   "metadata": {},
   "source": [
    "Count rRNA"
   ]
  },
  {
   "cell_type": "code",
   "execution_count": 25,
   "id": "trying-custom",
   "metadata": {},
   "outputs": [
    {
     "name": "stdout",
     "output_type": "stream",
     "text": [
      "CGZ69_RS05490\n",
      "CGZ69_RS05495\n",
      "CGZ69_RS05500\n",
      "CGZ69_RS07735\n",
      "CGZ69_RS07740\n",
      "CGZ69_RS07745\n",
      "CGZ69_RS13750\n",
      "CGZ69_RS13755\n",
      "CGZ69_RS13760\n",
      "CGZ69_RS17095\n",
      "CGZ69_RS17100\n",
      "CGZ69_RS17105\n",
      "CGZ69_RS20320\n",
      "CGZ69_RS20325\n",
      "CGZ69_RS20330\n",
      "CGZ69_RS26990\n",
      "CGZ69_RS26995\n",
      "CGZ69_RS27000\n"
     ]
    }
   ],
   "source": [
    "rrnas = []\n",
    "for feat in g.features:\n",
    "    if feat.type == 'rRNA':\n",
    "        rrnas.append(feat.qualifiers['locus_tag'][0])\n",
    "for r in rrnas:\n",
    "    print(r)"
   ]
  },
  {
   "cell_type": "code",
   "execution_count": null,
   "id": "tropical-webmaster",
   "metadata": {},
   "outputs": [],
   "source": []
  }
 ],
 "metadata": {
  "kernelspec": {
   "display_name": "Python 3",
   "language": "python",
   "name": "python3"
  },
  "language_info": {
   "codemirror_mode": {
    "name": "ipython",
    "version": 3
   },
   "file_extension": ".py",
   "mimetype": "text/x-python",
   "name": "python",
   "nbconvert_exporter": "python",
   "pygments_lexer": "ipython3",
   "version": "3.8.8"
  }
 },
 "nbformat": 4,
 "nbformat_minor": 5
}
