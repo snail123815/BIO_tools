{
 "cells": [
  {
   "cell_type": "code",
   "execution_count": 1,
   "id": "piano-renewal",
   "metadata": {},
   "outputs": [],
   "source": [
    "from BCBio import GFF\n",
    "from Bio import SeqIO\n",
    "from Bio.SeqRecord import SeqRecord"
   ]
  },
  {
   "cell_type": "code",
   "execution_count": 2,
   "id": "random-dakota",
   "metadata": {},
   "outputs": [],
   "source": [
    "genomeFile = 'alignment/genomeBuild/NZ_CP022438_S.peucetius_subsp.caesius_ATCC_27952_chromosome.gb'\n",
    "g = SeqIO.read(genomeFile, 'genbank')"
   ]
  },
  {
   "cell_type": "code",
   "execution_count": 5,
   "id": "boxed-starter",
   "metadata": {},
   "outputs": [
    {
     "data": {
      "text/plain": [
       "Bio.SeqRecord.SeqRecord"
      ]
     },
     "execution_count": 5,
     "metadata": {},
     "output_type": "execute_result"
    }
   ],
   "source": [
    "type(g)"
   ]
  },
  {
   "cell_type": "markdown",
   "id": "proved-washer",
   "metadata": {},
   "source": [
    "TODO: we can extract more feature types like rRNA and then filter after the counting has been done.\n",
    "Try the group features function to in featureCounts program (meta-feature level summarization)"
   ]
  },
  {
   "cell_type": "code",
   "execution_count": 11,
   "id": "listed-robertson",
   "metadata": {},
   "outputs": [],
   "source": [
    "# extract only genes to write to gff file\n",
    "onlyGenesRec = SeqRecord(g.seq, id=g.id, name='NZ_CP022438')\n",
    "genes = []\n",
    "for feat in g.features:\n",
    "    if feat.type == 'gene':\n",
    "        genes.append(feat)\n",
    "onlyGenesRec.features.extend(genes)"
   ]
  },
  {
   "cell_type": "code",
   "execution_count": 12,
   "id": "eleven-class",
   "metadata": {},
   "outputs": [],
   "source": [
    "with open('alignment/genomeBuild/NZ_CP022438_S.peucetius_subsp.caesius_ATCC_27952_chromosome.gff', 'w') as f:\n",
    "    GFF.write([onlyGenesRec], f)"
   ]
  },
  {
   "cell_type": "code",
   "execution_count": 17,
   "id": "agricultural-depression",
   "metadata": {},
   "outputs": [],
   "source": [
    "import BCBio"
   ]
  },
  {
   "cell_type": "code",
   "execution_count": 18,
   "id": "mathematical-bailey",
   "metadata": {},
   "outputs": [
    {
     "data": {
      "text/plain": [
       "['GFF',\n",
       " '__builtins__',\n",
       " '__cached__',\n",
       " '__doc__',\n",
       " '__file__',\n",
       " '__loader__',\n",
       " '__name__',\n",
       " '__package__',\n",
       " '__path__',\n",
       " '__spec__']"
      ]
     },
     "execution_count": 18,
     "metadata": {},
     "output_type": "execute_result"
    }
   ],
   "source": [
    "dir(BCBio)"
   ]
  },
  {
   "cell_type": "markdown",
   "id": "therapeutic-cooking",
   "metadata": {},
   "source": [
    "Convert GFF to GTF\n",
    "\n",
    "locus_tag=CGZ69_RS00005;old_locus_tag=CGZ69_00005\n",
    "\n",
    "locus_tag \"CGZ69_RS00005\";old_locus_tag \"CGZ69_00005\""
   ]
  },
  {
   "cell_type": "code",
   "execution_count": 23,
   "id": "junior-prayer",
   "metadata": {},
   "outputs": [],
   "source": [
    "with open('alignment/genomeBuild/NZ_CP022438_S.peucetius_subsp.caesius_ATCC_27952_chromosome.gff', 'r') as s:\n",
    "    with open('alignment/genomeBuild/NZ_CP022438_S.peucetius_subsp.caesius_ATCC_27952_chromosome.gtf', 'w') as t:\n",
    "        for l in s.readlines():\n",
    "            if l.startswith('##'):\n",
    "                continue\n",
    "            l = l.strip()\n",
    "            elements = l.split('\\t')\n",
    "            rawAttributes = [e.split('=') for e in elements[-1].split(';')]\n",
    "            gtfAttrs = ';'.join([f'{a} \"{v}\"' for a,v in rawAttributes])\n",
    "            t.write('\\t'.join(elements[:-1]+[gtfAttrs])+'\\n')\n",
    "            "
   ]
  },
  {
   "cell_type": "markdown",
   "id": "psychological-sterling",
   "metadata": {},
   "source": [
    "Count rRNA"
   ]
  },
  {
   "cell_type": "code",
   "execution_count": 3,
   "id": "wireless-oxford",
   "metadata": {},
   "outputs": [
    {
     "name": "stdout",
     "output_type": "stream",
     "text": [
      "CGZ69_RS05490\n",
      "CGZ69_RS05495\n",
      "CGZ69_RS05500\n",
      "CGZ69_RS07735\n",
      "CGZ69_RS07740\n",
      "CGZ69_RS07745\n",
      "CGZ69_RS13750\n",
      "CGZ69_RS13755\n",
      "CGZ69_RS13760\n",
      "CGZ69_RS17095\n",
      "CGZ69_RS17100\n",
      "CGZ69_RS17105\n",
      "CGZ69_RS20320\n",
      "CGZ69_RS20325\n",
      "CGZ69_RS20330\n",
      "CGZ69_RS26990\n",
      "CGZ69_RS26995\n",
      "CGZ69_RS27000\n"
     ]
    }
   ],
   "source": [
    "rrnas = []\n",
    "for feat in g.features:\n",
    "    if feat.type == 'rRNA':\n",
    "        rrnas.append(feat.qualifiers['locus_tag'][0])\n",
    "for r in rrnas:\n",
    "    print(r)"
   ]
  },
  {
   "cell_type": "code",
   "execution_count": 4,
   "id": "israeli-canada",
   "metadata": {},
   "outputs": [
    {
     "data": {
      "text/plain": [
       "['180087_1_WT_1d_S1_L001_NCBI.txt.summary',\n",
       " '180087_1_WT_1d_S1_L001_NCBI.txt',\n",
       " '180087_1_WT_1d_S1_L002_NCBI.txt',\n",
       " '180087_1_WT_1d_S1_L002_NCBI.txt.summary',\n",
       " '180087_2_WT_2d_S11_L001_NCBI.txt']"
      ]
     },
     "execution_count": 4,
     "metadata": {},
     "output_type": "execute_result"
    }
   ],
   "source": [
    "import os\n",
    "os.listdir('genecounts')[:5]\n"
   ]
  },
  {
   "cell_type": "code",
   "execution_count": 5,
   "id": "dental-foster",
   "metadata": {},
   "outputs": [
    {
     "data": {
      "text/plain": [
       "'180087_1_WT_1d_S1_L001_NCBI.txt'"
      ]
     },
     "execution_count": 5,
     "metadata": {},
     "output_type": "execute_result"
    }
   ],
   "source": [
    "# test\n",
    "f = os.listdir('genecounts')[1]\n",
    "f"
   ]
  },
  {
   "cell_type": "code",
   "execution_count": 6,
   "id": "beginning-salad",
   "metadata": {},
   "outputs": [
    {
     "data": {
      "text/plain": [
       "'genecounts/180087_1_WT_1d_S1_L001_NCBI.txt'"
      ]
     },
     "execution_count": 6,
     "metadata": {},
     "output_type": "execute_result"
    }
   ],
   "source": [
    "f = os.path.join('genecounts', f)\n",
    "f"
   ]
  },
  {
   "cell_type": "code",
   "execution_count": 9,
   "id": "powerful-arnold",
   "metadata": {},
   "outputs": [
    {
     "data": {
      "text/html": [
       "<div>\n",
       "<style scoped>\n",
       "    .dataframe tbody tr th:only-of-type {\n",
       "        vertical-align: middle;\n",
       "    }\n",
       "\n",
       "    .dataframe tbody tr th {\n",
       "        vertical-align: top;\n",
       "    }\n",
       "\n",
       "    .dataframe thead th {\n",
       "        text-align: right;\n",
       "    }\n",
       "</style>\n",
       "<table border=\"1\" class=\"dataframe\">\n",
       "  <thead>\n",
       "    <tr style=\"text-align: right;\">\n",
       "      <th></th>\n",
       "      <th>Chr</th>\n",
       "      <th>Start</th>\n",
       "      <th>End</th>\n",
       "      <th>Strand</th>\n",
       "      <th>Length</th>\n",
       "      <th>alignment/NCBI_genome/180087_1_WT_1d_S1_L001_NCBI.sam</th>\n",
       "    </tr>\n",
       "    <tr>\n",
       "      <th>Geneid</th>\n",
       "      <th></th>\n",
       "      <th></th>\n",
       "      <th></th>\n",
       "      <th></th>\n",
       "      <th></th>\n",
       "      <th></th>\n",
       "    </tr>\n",
       "  </thead>\n",
       "  <tbody>\n",
       "    <tr>\n",
       "      <th>CGZ69_RS00005</th>\n",
       "      <td>NZ_CP022438.1</td>\n",
       "      <td>628</td>\n",
       "      <td>1047</td>\n",
       "      <td>-</td>\n",
       "      <td>420</td>\n",
       "      <td>0</td>\n",
       "    </tr>\n",
       "    <tr>\n",
       "      <th>CGZ69_RS00010</th>\n",
       "      <td>NZ_CP022438.1</td>\n",
       "      <td>1282</td>\n",
       "      <td>1740</td>\n",
       "      <td>+</td>\n",
       "      <td>459</td>\n",
       "      <td>4</td>\n",
       "    </tr>\n",
       "    <tr>\n",
       "      <th>CGZ69_RS00015</th>\n",
       "      <td>NZ_CP022438.1</td>\n",
       "      <td>2706</td>\n",
       "      <td>2909</td>\n",
       "      <td>+</td>\n",
       "      <td>204</td>\n",
       "      <td>1</td>\n",
       "    </tr>\n",
       "    <tr>\n",
       "      <th>CGZ69_RS00020</th>\n",
       "      <td>NZ_CP022438.1</td>\n",
       "      <td>3132</td>\n",
       "      <td>3335</td>\n",
       "      <td>-</td>\n",
       "      <td>204</td>\n",
       "      <td>0</td>\n",
       "    </tr>\n",
       "    <tr>\n",
       "      <th>CGZ69_RS00030</th>\n",
       "      <td>NZ_CP022438.1</td>\n",
       "      <td>4021</td>\n",
       "      <td>4309</td>\n",
       "      <td>+</td>\n",
       "      <td>289</td>\n",
       "      <td>0</td>\n",
       "    </tr>\n",
       "  </tbody>\n",
       "</table>\n",
       "</div>"
      ],
      "text/plain": [
       "                         Chr  Start   End Strand  Length  \\\n",
       "Geneid                                                     \n",
       "CGZ69_RS00005  NZ_CP022438.1    628  1047      -     420   \n",
       "CGZ69_RS00010  NZ_CP022438.1   1282  1740      +     459   \n",
       "CGZ69_RS00015  NZ_CP022438.1   2706  2909      +     204   \n",
       "CGZ69_RS00020  NZ_CP022438.1   3132  3335      -     204   \n",
       "CGZ69_RS00030  NZ_CP022438.1   4021  4309      +     289   \n",
       "\n",
       "               alignment/NCBI_genome/180087_1_WT_1d_S1_L001_NCBI.sam  \n",
       "Geneid                                                                \n",
       "CGZ69_RS00005                                                  0      \n",
       "CGZ69_RS00010                                                  4      \n",
       "CGZ69_RS00015                                                  1      \n",
       "CGZ69_RS00020                                                  0      \n",
       "CGZ69_RS00030                                                  0      "
      ]
     },
     "execution_count": 9,
     "metadata": {},
     "output_type": "execute_result"
    }
   ],
   "source": [
    "import pandas as pd\n",
    "ct = pd.read_csv(f, sep='\\t', comment='#', header=0, index_col=0)\n",
    "ct.head()"
   ]
  },
  {
   "cell_type": "code",
   "execution_count": 12,
   "id": "mediterranean-particular",
   "metadata": {},
   "outputs": [
    {
     "data": {
      "text/plain": [
       "Index([True, True, True, True, True, True, True, True, True, True,\n",
       "       ...\n",
       "       True, True, True, True, True, True, True, True, True, True],\n",
       "      dtype='object', name='Geneid', length=7129)"
      ]
     },
     "execution_count": 12,
     "metadata": {},
     "output_type": "execute_result"
    }
   ],
   "source": [
    "ct.index.map(lambda x: x not in rrnas)"
   ]
  },
  {
   "cell_type": "code",
   "execution_count": 13,
   "id": "concerned-lender",
   "metadata": {},
   "outputs": [
    {
     "data": {
      "text/plain": [
       "(7129, 6)"
      ]
     },
     "execution_count": 13,
     "metadata": {},
     "output_type": "execute_result"
    }
   ],
   "source": [
    "ct.shape"
   ]
  },
  {
   "cell_type": "code",
   "execution_count": 14,
   "id": "filled-deployment",
   "metadata": {},
   "outputs": [
    {
     "data": {
      "text/plain": [
       "(7111, 6)"
      ]
     },
     "execution_count": 14,
     "metadata": {},
     "output_type": "execute_result"
    }
   ],
   "source": [
    "ct[ct.index.map(lambda x: x not in rrnas)].shape"
   ]
  },
  {
   "cell_type": "code",
   "execution_count": 15,
   "id": "massive-facial",
   "metadata": {},
   "outputs": [
    {
     "data": {
      "text/html": [
       "<div>\n",
       "<style scoped>\n",
       "    .dataframe tbody tr th:only-of-type {\n",
       "        vertical-align: middle;\n",
       "    }\n",
       "\n",
       "    .dataframe tbody tr th {\n",
       "        vertical-align: top;\n",
       "    }\n",
       "\n",
       "    .dataframe thead th {\n",
       "        text-align: right;\n",
       "    }\n",
       "</style>\n",
       "<table border=\"1\" class=\"dataframe\">\n",
       "  <thead>\n",
       "    <tr style=\"text-align: right;\">\n",
       "      <th></th>\n",
       "      <th>Chr</th>\n",
       "      <th>Start</th>\n",
       "      <th>End</th>\n",
       "      <th>Strand</th>\n",
       "      <th>Length</th>\n",
       "      <th>alignment/NCBI_genome/180087_1_WT_1d_S1_L001_NCBI.sam</th>\n",
       "    </tr>\n",
       "    <tr>\n",
       "      <th>Geneid</th>\n",
       "      <th></th>\n",
       "      <th></th>\n",
       "      <th></th>\n",
       "      <th></th>\n",
       "      <th></th>\n",
       "      <th></th>\n",
       "    </tr>\n",
       "  </thead>\n",
       "  <tbody>\n",
       "    <tr>\n",
       "      <th>CGZ69_RS00005</th>\n",
       "      <td>NZ_CP022438.1</td>\n",
       "      <td>628</td>\n",
       "      <td>1047</td>\n",
       "      <td>-</td>\n",
       "      <td>420</td>\n",
       "      <td>0</td>\n",
       "    </tr>\n",
       "    <tr>\n",
       "      <th>CGZ69_RS00010</th>\n",
       "      <td>NZ_CP022438.1</td>\n",
       "      <td>1282</td>\n",
       "      <td>1740</td>\n",
       "      <td>+</td>\n",
       "      <td>459</td>\n",
       "      <td>4</td>\n",
       "    </tr>\n",
       "    <tr>\n",
       "      <th>CGZ69_RS00015</th>\n",
       "      <td>NZ_CP022438.1</td>\n",
       "      <td>2706</td>\n",
       "      <td>2909</td>\n",
       "      <td>+</td>\n",
       "      <td>204</td>\n",
       "      <td>1</td>\n",
       "    </tr>\n",
       "    <tr>\n",
       "      <th>CGZ69_RS00020</th>\n",
       "      <td>NZ_CP022438.1</td>\n",
       "      <td>3132</td>\n",
       "      <td>3335</td>\n",
       "      <td>-</td>\n",
       "      <td>204</td>\n",
       "      <td>0</td>\n",
       "    </tr>\n",
       "    <tr>\n",
       "      <th>CGZ69_RS00030</th>\n",
       "      <td>NZ_CP022438.1</td>\n",
       "      <td>4021</td>\n",
       "      <td>4309</td>\n",
       "      <td>+</td>\n",
       "      <td>289</td>\n",
       "      <td>0</td>\n",
       "    </tr>\n",
       "  </tbody>\n",
       "</table>\n",
       "</div>"
      ],
      "text/plain": [
       "                         Chr  Start   End Strand  Length  \\\n",
       "Geneid                                                     \n",
       "CGZ69_RS00005  NZ_CP022438.1    628  1047      -     420   \n",
       "CGZ69_RS00010  NZ_CP022438.1   1282  1740      +     459   \n",
       "CGZ69_RS00015  NZ_CP022438.1   2706  2909      +     204   \n",
       "CGZ69_RS00020  NZ_CP022438.1   3132  3335      -     204   \n",
       "CGZ69_RS00030  NZ_CP022438.1   4021  4309      +     289   \n",
       "\n",
       "               alignment/NCBI_genome/180087_1_WT_1d_S1_L001_NCBI.sam  \n",
       "Geneid                                                                \n",
       "CGZ69_RS00005                                                  0      \n",
       "CGZ69_RS00010                                                  4      \n",
       "CGZ69_RS00015                                                  1      \n",
       "CGZ69_RS00020                                                  0      \n",
       "CGZ69_RS00030                                                  0      "
      ]
     },
     "execution_count": 15,
     "metadata": {},
     "output_type": "execute_result"
    }
   ],
   "source": [
    "newct = ct[ct.index.map(lambda x: x not in rrnas)]\n",
    "newct.head()"
   ]
  },
  {
   "cell_type": "code",
   "execution_count": 19,
   "id": "static-arena",
   "metadata": {},
   "outputs": [
    {
     "data": {
      "text/plain": [
       "87698"
      ]
     },
     "execution_count": 19,
     "metadata": {},
     "output_type": "execute_result"
    }
   ],
   "source": [
    "newct.iloc[:,5].sum()"
   ]
  },
  {
   "cell_type": "code",
   "execution_count": 20,
   "id": "unexpected-crime",
   "metadata": {},
   "outputs": [
    {
     "data": {
      "text/plain": [
       "8916438"
      ]
     },
     "execution_count": 20,
     "metadata": {},
     "output_type": "execute_result"
    }
   ],
   "source": [
    "ct.iloc[:,5].sum()"
   ]
  },
  {
   "cell_type": "markdown",
   "id": "official-marshall",
   "metadata": {},
   "source": [
    "## Now remove all rrnas from the table"
   ]
  },
  {
   "cell_type": "code",
   "execution_count": 26,
   "id": "silent-designer",
   "metadata": {},
   "outputs": [
    {
     "name": "stdout",
     "output_type": "stream",
     "text": [
      ".ipynb_checkpoints\n"
     ]
    }
   ],
   "source": [
    "# os.mkdir('genecounts_no_rRNA')\n",
    "for f in os.listdir('genecounts'):\n",
    "    if f.endswith('.summary'):\n",
    "        continue\n",
    "    try:\n",
    "        ct = pd.read_csv(f'genecounts/{f}', sep='\\t', comment='#', header=0, index_col=0)\n",
    "    except:\n",
    "        print(f)\n",
    "        continue\n",
    "    newct = ct[ct.index.map(lambda x: x not in rrnas)]\n",
    "    newct.columns = [c.replace('alignment/NCBI_genome/','') for c in newct.columns]\n",
    "    newct.to_csv(os.path.join('genecounts_no_rRNA', f'{os.path.splitext(f)[0]}_no_rRNA.txt'), sep='\\t')\n",
    "    "
   ]
  }
 ],
 "metadata": {
  "kernelspec": {
   "display_name": "Python 3",
   "language": "python",
   "name": "python3"
  },
  "language_info": {
   "codemirror_mode": {
    "name": "ipython",
    "version": 3
   },
   "file_extension": ".py",
   "mimetype": "text/x-python",
   "name": "python",
   "nbconvert_exporter": "python",
   "pygments_lexer": "ipython3",
   "version": "3.8.8"
  }
 },
 "nbformat": 4,
 "nbformat_minor": 5
}
