{
 "cells": [
  {
   "cell_type": "code",
   "execution_count": 9,
   "metadata": {
    "ExecuteTime": {
     "end_time": "2018-04-23T07:10:15.691502Z",
     "start_time": "2018-04-23T07:10:15.685920Z"
    }
   },
   "outputs": [
    {
     "name": "stdout",
     "output_type": "stream",
     "text": [
      "Your email address for EntrezSearch:c.du@biology.leidenuniv.nl\n"
     ]
    }
   ],
   "source": [
    "from Bio import Entrez\n",
    "Entrez.email = input(\"Your email address for EntrezSearch:\")\n",
    "import os\n",
    "import pickle\n",
    "import lzma\n",
    "from datetime import date\n",
    "from time import strftime, sleep\n",
    "from urllib.error import HTTPError\n",
    "from http.client import IncompleteRead\n",
    "import sys\n",
    "from Bio import SeqIO\n",
    "from Bio import Seq\n",
    "import subprocess\n",
    "\n",
    "\n",
    "prefix = \"txid105422\"\n",
    "searchTerm = f'{prefix}[Organism] AND refseq[filter] NOT \"sequencing project\"[Title]'\n",
    "\n",
    "newSearch = True\n",
    "newFetch = True\n",
    "\n",
    "if newSearch:\n",
    "    dateOfSearch = date.today().strftime(\"%Y%m%d\") # For new search\n",
    "else:\n",
    "    dateOfSearch = '20180422' # For old search, change the date accrodingly\n",
    "    \n",
    "def writeLog(logFile, logStr, end = '\\n'):\n",
    "    print(logStr, end = end)\n",
    "    with open(logFile,'a') as logHandle:\n",
    "        logHandle.write(f'{logStr}{end}')"
   ]
  },
  {
   "cell_type": "markdown",
   "metadata": {
    "ExecuteTime": {
     "end_time": "2018-04-20T13:07:29.189732Z",
     "start_time": "2018-04-20T13:07:29.185851Z"
    },
    "deletable": false,
    "editable": false,
    "run_control": {
     "frozen": true
    }
   },
   "source": [
    "* Taxonomy ID: 228398 (for references in articles please use NCBI:txid228398)  \n",
    " Scientific name: Streptacidiphilus Kim et al. 2003\n",
    "* Taxonomy ID: 2063 (for references in articles please use NCBI:{prefix})  \n",
    " Scientific name: Kitasatospora corrig. Omura et al. 1983 emend. Zhang et al. 1997\n",
    "* Taxonomy ID: 1883 (for references in articles please use NCBI:txid1883)  \n",
    " Scientific name: Streptomyces Waksman and Henrici 1943 (Approved Lists 1980) emend. Wellington et al. 199* \n",
    "* Taxonomy ID: 1914443 (for references in articles please use NCBI:txid1914443)  \n",
    " Scientific name: Allostreptomyces Huang et al. 2017\n",
    "* Taxonomy ID: 329648 (for references in articles please use NCBI:txid329648)  \n",
    " Scientific name: \"Parastreptomyces\" 1) Nichols et al. 2005\n",
    "* Taxonomy ID: 65518 (for references in articles please use NCBI:txid65518)  \n",
    " Scientific name: \"Trichotomospora\" 1) Lian et al. 1985\n",
    "* Taxonomy ID: 234292 (for references in articles please use NCBI:txid234292)  \n",
    " Scientific name: unclassified Streptomycetaceae\n",
    "* Taxonomy ID: 259296 (for references in articles please use NCBI:txid259296)  \n",
    " Scientific name: environmental samples"
   ]
  },
  {
   "cell_type": "code",
   "execution_count": 10,
   "metadata": {
    "ExecuteTime": {
     "end_time": "2018-04-22T15:16:59.251100Z",
     "start_time": "2018-04-22T15:15:06.303828Z"
    }
   },
   "outputs": [
    {
     "name": "stdout",
     "output_type": "stream",
     "text": [
      "No.1>141|\n",
      "WebAccession:\n",
      "NCID_1_119459368_130.14.22.215_9001_1529576568_398040618_0MetA0_S_MegaStore\n",
      "Total entry 141.\n",
      "\n",
      "Total target sets 1\n",
      "First 10:\n",
      "['219857341', '755060028', '755060022', '755060015', '755060009']...\n",
      "...\n"
     ]
    }
   ],
   "source": [
    "def getRecords(searchTerm, c = 0, step = 2000, webaccession = None):\n",
    "    targets = []\n",
    "    count = 0\n",
    "    while c < count or count == 0:\n",
    "        print(f'No.{int(c/step+1)}', end = '>')\n",
    "        handle = Entrez.esearch(db='nuccore', \n",
    "                                term=searchTerm,\n",
    "                                usehistory=True,\n",
    "                                webenv=webaccession, # reuse teh first query\n",
    "                                retstart=c, # Continue from num c\n",
    "                                retmax=step # Maxium number returned\n",
    "                               )\n",
    "        record = Entrez.read(handle)\n",
    "        handle.close()\n",
    "        if record['Count'] == \"0\":\n",
    "            print(\"\\nThere is no genome with this search.\")\n",
    "            break\n",
    "        if 'WarningList' in record: # If anything wrong\n",
    "            print(record['WarningList']['OutputMessage'])\n",
    "\n",
    "        # Put current list of IDs in our targets dict    \n",
    "        targets.append(record['IdList'])\n",
    "        print(f\"{len(record['IdList'])}\", end = '|')  # the number got from this loop.\n",
    "\n",
    "        if webaccession == None:\n",
    "            webaccession = record[\"WebEnv\"] # start new search only in the first loop\n",
    "            print(f'\\nWebAccession:\\n{webaccession}')\n",
    "            count = int(record['Count']) # total number of hits get from the first search attempt\n",
    "            print(f\"Total entry {count}.\")    \n",
    "        c += step\n",
    "    return c, count, webaccession, targets\n",
    "\n",
    "\n",
    "c, count, webaccession, targets = getRecords(searchTerm = searchTerm)\n",
    "\n",
    "# now print and check the first 5 IDs of the first 10 lists of IDs\n",
    "print(f\"\\nTotal target sets {len(targets)}\\nFirst 10:\")\n",
    "for targ in targets[:10]:\n",
    "    print(f\"{targ[:5]}...\")\n",
    "print('...')\n"
   ]
  },
  {
   "cell_type": "markdown",
   "metadata": {},
   "source": [
    "# Fetching all data from online (getting IDs from previous stored data)"
   ]
  },
  {
   "cell_type": "code",
   "execution_count": 11,
   "metadata": {
    "ExecuteTime": {
     "end_time": "2018-04-22T17:45:01.238923Z",
     "start_time": "2018-04-22T17:45:00.238202Z"
    },
    "scrolled": true
   },
   "outputs": [
    {
     "name": "stdout",
     "output_type": "stream",
     "text": [
      "Total nucids 141\n",
      "Remember to switch off <newSearch>\n"
     ]
    }
   ],
   "source": [
    "# Dump targets got from search in pickle file\n",
    "pickleFiles = \"/Users/durand.dc/Desktop/\"\n",
    "targetsPickle = os.path.join(pickleFiles, f'refseq_{prefix}_{dateOfSearch}.pickle.xz')\n",
    "if newSearch:\n",
    "    with lzma.open(targetsPickle, 'wb') as pickleOut:\n",
    "        pickle.dump(targets, pickleOut)\n",
    "    newSearch = False # switch off newSearch\n",
    "else:\n",
    "    with lzma.open(targetsPickle, 'rb') as pickleIn:\n",
    "        targets = pickle.load(pickleIn)\n",
    "        \n",
    "# flatten the targets list of list\n",
    "# remove redundant if we have some\n",
    "\n",
    "nucids = sorted(list(set(item for sublist in targets for item in sublist)))\n",
    "\n",
    "print(f\"Total nucids {len(nucids)}\\nRemember to switch off <newSearch>\")"
   ]
  },
  {
   "cell_type": "code",
   "execution_count": 4,
   "metadata": {
    "ExecuteTime": {
     "end_time": "2018-04-22T17:45:01.763480Z",
     "start_time": "2018-04-22T17:45:01.756241Z"
    }
   },
   "outputs": [],
   "source": [
    "def fetch(index, file_Nu, ids, returnType = ['fasta','fasta']):\n",
    "    '''fetch(index, file_Nu, ids, returnType = ['fasta','fasta'])\n",
    "    \n",
    "    other option is:\n",
    "    returnType = ['gbwithparts','gb']'''\n",
    "\n",
    "    writeLog(logFile, f\"Fetching {file_Nu}: {ids[:4]}...({len(ids)})\")\n",
    "    \n",
    "    output_file = os.path.join(outputPath, f'{prefix}_No_{file_Nu}.{returnType[1]}')\n",
    "\n",
    "    # Fetching...\n",
    "    with Entrez.efetch(db = 'nuccore',\n",
    "                       id = ids,\n",
    "                       rettype = returnType[0],\n",
    "                       retmode = 'text'\n",
    "                      ) as handle:\n",
    "        with open(output_file, 'w') as out_handle:\n",
    "            out_handle.write(handle.read())\n",
    "    \n",
    "    # Write finishing note to screen and log file\n",
    "    logstr = f\"Finished {file_Nu}: {os.stat(output_file).st_size/1024/1024:.2f} MB {output_file} \\n\"\n",
    "    print(logstr)\n",
    "    with open(logFile,'a') as log_handle:\n",
    "        log_handle.write(f'{logstr}\\n')\n",
    "    return True\n",
    "\n",
    "\n",
    "def finishing(allDone = True):\n",
    "    totalSize = 0 # calculate total amount data got from entrez\n",
    "    for file in os.listdir(outputPath):\n",
    "        if file.endswith('.gb') or file.endswith('.fasta'):\n",
    "            totalSize += os.stat(os.path.join(outputPath,file)).st_size\n",
    "    \n",
    "    writeLog(logFile, f\"Group finished, already got {totalSize/1024/1024:.2f} MB data!\")\n",
    "    if allDone:\n",
    "            writeLog(logFile,'Finished fetching all IDs.')\n",
    "    else:\n",
    "        writeLog(logFile, f'Next download will start from group {start} (of 0 - {len(idStacks)-1}).')\n",
    "        writeLog(logFile, f'{timestamp:*^80}')\n",
    "        print('Before starting next query, please set how many groups you want to fetch based on your schedule.')        "
   ]
  },
  {
   "cell_type": "code",
   "execution_count": 12,
   "metadata": {
    "ExecuteTime": {
     "end_time": "2018-04-23T06:57:20.503324Z",
     "start_time": "2018-04-23T06:57:20.500259Z"
    }
   },
   "outputs": [],
   "source": [
    "start = 0 # should start from 0 if nothing have downloaded"
   ]
  },
  {
   "cell_type": "code",
   "execution_count": 13,
   "metadata": {
    "ExecuteTime": {
     "end_time": "2018-04-23T06:57:44.861731Z",
     "start_time": "2018-04-23T06:57:38.725340Z"
    },
    "scrolled": false
   },
   "outputs": [
    {
     "name": "stdout",
     "output_type": "stream",
     "text": [
      "Last group No. 0000\n",
      "\n",
      "****************************12:23:13 21/06/2018 CEST****************************\n",
      "Now fetching groups from 0 to 0\n",
      "Each group have 300 nuclIDs\n",
      "IDs from 1 to 300 (inclusive)\n",
      "********************************************************************************\n",
      "\n",
      "Fetching 0000: ['219857341', '631251409', '755039748', '755040325']...(141)\n",
      "Finished 0000: 24.62 MB /Users/durand.dc/Desktop/downloadingGenomes/txid105422_No_0000.gb \n",
      "\n",
      "Group finished, already got 61.02 MB data!\n",
      "Finished fetching all IDs.\n"
     ]
    }
   ],
   "source": [
    "downloadStep = 300 # this should not be changed during download\n",
    "\n",
    "idStacks = []\n",
    "for i in range(0,len(nucids),downloadStep):\n",
    "    idStacks.append(nucids[i:i+downloadStep])\n",
    "\n",
    "print(f'Last group No. {str(len(idStacks)-1).zfill(4)}')\n",
    "\n",
    "numToFetch = 999 # number of files to fetch (specifing if you can not finish in one go)\n",
    "\n",
    "end = start + numToFetch # range(start, end) means not including end number!!\n",
    "\n",
    "if end > len(idStacks):\n",
    "    end = len(idStacks)\n",
    "\n",
    "outputPath = '/Users/durand.dc/Desktop/downloadingGenomes/'\n",
    "logFile = f'{outputPath}fetching.log'\n",
    "timestamp = strftime('%X %d/%m/%Y %Z')\n",
    "\n",
    "writeLog(logFile, f'''\n",
    "{timestamp:*^80}\n",
    "Now fetching groups from {start} to {end-1}\n",
    "Each group have {downloadStep} nuclIDs\n",
    "IDs from {start*downloadStep+1} to {end*downloadStep+1-1} (inclusive)\n",
    "{\"\":*^80}\n",
    "''')\n",
    "# Mean loop\n",
    "for i in range(start, len(idStacks)):\n",
    "    # Break the loop for shorter operation and debugging time\n",
    "    if i == end and i != len(idStacks)-1:\n",
    "        start = i\n",
    "        finishing(allDone = False)\n",
    "        break\n",
    "        \n",
    "    ids = idStacks[i]\n",
    "    \n",
    "    succeed = False\n",
    "    retryTimes = 0\n",
    "    while succeed == False:\n",
    "        try:\n",
    "            succeed = fetch(index = i, file_Nu = str(i).zfill(4), ids = ids)\n",
    "        except HTTPError:\n",
    "            retryTimes += 1\n",
    "            if retryTimes == 3:\n",
    "                print(\"Failed 3 times due to HTTPError (NCBI server problem), please try again another time.\")\n",
    "                start = i\n",
    "                print(f'Start value set for next trial. [{start}]')\n",
    "                break\n",
    "            else:\n",
    "                print('Failed due to HTTPError, pause for 45 seconds...',end = '')\n",
    "                sleep(45)\n",
    "                print('Retrying...')\n",
    "        except IncompleteRead:\n",
    "            start = i\n",
    "            print(f'Failed due to connection loss, start value set for next trial. [{start}]') \n",
    "            break\n",
    "        except:\n",
    "            start = i\n",
    "            print(f'Failed due to unknown error, start value set for next trial. [{start}]') \n",
    "            print(f'{sys.exc_info()}')\n",
    "            break\n",
    "    if not succeed:\n",
    "        break\n",
    "    elif i == len(idStacks) - 1:\n",
    "        finishing(allDone = True)"
   ]
  },
  {
   "cell_type": "markdown",
   "metadata": {},
   "source": [
    "# Convert genbank file to blast database"
   ]
  },
  {
   "cell_type": "markdown",
   "metadata": {},
   "source": [
    "gb files needs to be converet to fasta file before making a database  \n",
    "also the files needed to be combined incase combine blast database don't work, also for easy file transfering"
   ]
  },
  {
   "cell_type": "code",
   "execution_count": null,
   "metadata": {
    "ExecuteTime": {
     "end_time": "2018-04-20T19:15:27.766298Z",
     "start_time": "2018-04-20T18:53:50.010911Z"
    },
    "scrolled": true
   },
   "outputs": [],
   "source": [
    "def convertGb2Fasta(storage_folder_gb, storage_folder_fa, logFile, sizeLimit, numFilesToConvert = 9999):\n",
    "    print('Changing gb to fasta...')\n",
    "    \n",
    "    totalGbs = sum(file.endswith('gb') for file in os.listdir(storage_folder_gb))\n",
    "\n",
    "    # write log file\n",
    "    writeLog(logFile, f'\\n{timestamp:*^50}\\n{totalGbs} of gb files in total\\n{\"\":*^50}\\n')\n",
    "    # setup starting values\n",
    "    recordWithSeq = [] # container for seqs for the function of dumping certain size of seqs together.\n",
    "    seqTotalLength = 0\n",
    "    num_empty = 0\n",
    "    breakPoint = 0\n",
    "    \n",
    "    # Main loop\n",
    "    for i in range(totalGbs):\n",
    "        num = str(i).zfill(4)\n",
    "        input_file = os.path.join(storage_folder_gb, f'{prefix}_No_{num}.gb') \n",
    "        # If there is a gap in the input file, it will currupt here.\n",
    "\n",
    "        # Write note to screen and log file\n",
    "        writeLog(logFile, f\"{num}|{seqTotalLength}\", end = '\\t')\n",
    "        \n",
    "        records = SeqIO.parse(input_file, 'genbank')\n",
    "        for record in records:\n",
    "            if type(record.seq) == Seq.UnknownSeq: # Empty records will load as UnknownSeq\n",
    "                num_empty += 1\n",
    "                pass\n",
    "            else:\n",
    "                recordWithSeq.append(record)\n",
    "                seqTotalLength += len(record)\n",
    "\n",
    "        if i == end - 1:\n",
    "            print('\\nReach the end, writing it out...')\n",
    "            output_file = os.path.join(storage_folder_fa, f'{prefix}_No_{breakPoint}to{num}.fasta')\n",
    "            with open(output_file, 'w') as fasta_out_handle:\n",
    "                if len(recordWithSeq) == 0: # if all records are empty, there is no point of writing it to fasta\n",
    "                    writeLog(logFile, f'There is no sequence in this batch, proceed to next file...')\n",
    "                else:\n",
    "                    SeqIO.write(recordWithSeq, fasta_out_handle, 'fasta')\n",
    "                    writeLog(logFile, f\"Finished converting {num}, ignored {num_empty} empty records in this batch.\")\n",
    "        elif seqTotalLength >= sizeLimit:\n",
    "            print('\\nReach the size limit of single file, writing it out')\n",
    "            output_file = os.path.join(storage_folder_fa, f'{prefix}_No_{breakPoint}to{num}.fasta')\n",
    "            with open(output_file, 'w') as fasta_out_handle:\n",
    "                if len(recordWithSeq) == 0: # if all records are empty, there is no point of writing it to fasta\n",
    "                    writeLog(logFile, f'There is no sequence in this batch, proceed to next file...')\n",
    "                else:\n",
    "                    SeqIO.write(recordWithSeq, fasta_out_handle, 'fasta')\n",
    "                    writeLog(logFile, f\"Finished converting {num}, ignored {num_empty} empty records in this batch.\")\n",
    "            # Reset batch\n",
    "            recordWithSeq = list()\n",
    "            seqTotalLength = 0\n",
    "            num_empty = 0\n",
    "            breakPoint = str(i).zfill(4)\n",
    "            \n",
    "            \n",
    "def combineFasta(fetchedFasta,combinedFasta,logFile,sizeLimit):\n",
    "    if not os.path.isdir(combinedFasta):\n",
    "        os.mkdir(combinedFasta)\n",
    "\n",
    "    fileList = [os.path.join(fetchedFasta, file) for file in os.listdir(fetchedFasta) if file.endswith('.fasta')]\n",
    "    seqTotalLength = 0\n",
    "    seqsInOneFile = []\n",
    "    breakPoint = 0\n",
    "    for i in range(len(fileList)):\n",
    "        parseSeqs = list(SeqIO.parse(fileList[i],'fasta'))\n",
    "        for seq in parseSeqs:\n",
    "            seqTotalLength += len(seq)\n",
    "            if len(seq) == 0:\n",
    "                print('There is 0 length sequences')\n",
    "                break\n",
    "        seqsInOneFile += parseSeqs\n",
    "        logStr = f\"{i}|{seqTotalLength}\"\n",
    "        writeLog(logFile, logStr, end = '\\t')\n",
    "\n",
    "        if i == len(fileList) - 1:\n",
    "            outputFile = os.path.join(combinedFasta, f'{prefix}_{breakPoint}_to_{i}.fasta')\n",
    "            logStr = f'\\nFinished combining, write out last batch...\\n{outputFile}'\n",
    "            writeLog(logFile, logStr)\n",
    "            SeqIO.write(seqsInOneFile, outputFile, 'fasta')\n",
    "            writeLog(logFile, 'Write succeeded.')\n",
    "        elif seqTotalLength >= sizeLimit:\n",
    "            outputFile = os.path.join(combinedFasta, f'{prefix}_{breakPoint}_to_{i}.fasta')\n",
    "            logStr = f'\\nReached file size limit, write out...\\n{outputFile}'\n",
    "            writeLog(logFile, logStr)\n",
    "            SeqIO.write(seqsInOneFile, outputFile, 'fasta')\n",
    "            breakPoint = i+1\n",
    "            seqsInOneFile = []\n",
    "            seqTotalLength = 0\n",
    "            writeLog(logFile, 'Write succeeded.')\n",
    "\n",
    "            \n",
    "timestamp = strftime('%X %d/%m/%Y %Z')\n",
    "fastaFolder = '/Users/durand.dc/Desktop/downloadingGenomes/fasta/'\n",
    "fetched = '/Users/durand.dc/Desktop/downloadingGenomes/'\n",
    "logFile = os.path.join(fastaFolder,'converting.log')\n",
    "print('Converting...')\n",
    "sizeLimit = 1000000000\n",
    "\n",
    "if sum(file.endswith('gb') for file in os.listdir(fetched)) == 0:\n",
    "    combineFasta(fetched,fastaFolder,logFile,sizeLimit)\n",
    "else:\n",
    "    convertGb2Fasta(fetched,fastaFolder,logFile,sizeLimit)\n"
   ]
  },
  {
   "cell_type": "markdown",
   "metadata": {},
   "source": [
    "# Make blast database"
   ]
  },
  {
   "cell_type": "code",
   "execution_count": null,
   "metadata": {
    "ExecuteTime": {
     "end_time": "2018-04-23T07:18:46.911584Z",
     "start_time": "2018-04-23T07:17:43.682288Z"
    },
    "scrolled": false
   },
   "outputs": [],
   "source": [
    "sourceDir = '/Users/durand.dc/Desktop/downloadingGenomes/fasta'\n",
    "outputDir = '/Users/durand.dc/Desktop/downloadingGenomes/blastdb/'\n",
    "logFile = '/Users/durand.dc/Desktop/downloadingGenomes/blastdb/makeblastdb.log'\n",
    "\n",
    "if not os.path.isdir(outputDir):\n",
    "    os.mkdir(outputDir)\n",
    "    \n",
    "# Change here accroding to the format fetched from entrez \n",
    "totalNum = sum(file.endswith('fasta') for file in os.listdir(sourceDir))\n",
    "print(f'Total number of files to be converted {totalNum}.\\nConverted:', end='')\n",
    "\n",
    "converted = 0\n",
    "for file in os.listdir(sourceDir):\n",
    "    if not file.endswith('fasta'):\n",
    "        continue\n",
    "    singleSeqFile = os.path.join(sourceDir, file)\n",
    "    args = ['makeblastdb',\n",
    "            '-in', singleSeqFile,\n",
    "            '-input_type', 'fasta',\n",
    "            '-dbtype', 'nucl',\n",
    "            '-title', f'{file[:-6]}',\n",
    "            '-out', os.path.join(outputDir, f'{file[:-6]}'),\n",
    "            '-logfile', logFile,\n",
    "            '-taxid', '1883'\n",
    "           ]\n",
    "    run = subprocess.run(args, stdout = subprocess.PIPE, stderr = subprocess.PIPE)\n",
    "    if run.returncode == 0:\n",
    "        converted += 1\n",
    "        print(f'{converted}|', end = '')\n",
    "        pass\n",
    "    else:\n",
    "        with open(logFile, 'r') as log:\n",
    "            for line in log.readlines():\n",
    "                print(line)\n",
    "        break\n",
    "print(f'\\n\\nFinished, databases made: {converted}')"
   ]
  },
  {
   "cell_type": "markdown",
   "metadata": {},
   "source": [
    "## Merge blast database into one"
   ]
  },
  {
   "cell_type": "code",
   "execution_count": null,
   "metadata": {
    "ExecuteTime": {
     "end_time": "2018-04-23T07:19:03.937275Z",
     "start_time": "2018-04-23T07:19:03.869547Z"
    }
   },
   "outputs": [],
   "source": [
    "databaseDir = '/Users/durand.dc/Desktop/downloadingGenomes/blastdb/'\n",
    "listFile = '/Users/durand.dc/Desktop/downloadingGenomes/blastdb/listofdbs.txt'\n",
    "databaseList = []\n",
    "for file in os.listdir(databaseDir):\n",
    "    if not file.endswith('nsq'):\n",
    "        continue\n",
    "    dbName = file.split('.')[0]\n",
    "    databaseList.append(os.path.join(databaseDir, dbName))\n",
    "with open(listFile, 'w') as handle:\n",
    "    handle.write('\\n'.join(databaseList))\n",
    "    \n",
    "args = ['blastdb_aliastool',\n",
    "        '-dblist_file', listFile,\n",
    "        '-dbtype', 'nucl',\n",
    "        '-out', os.path.join(databaseDir, f'{prefix}Nucl{dateOfSearch}'),\n",
    "        '-title', f'{prefix}Nucl{dateOfSearch}',\n",
    "       ]\n",
    "run = subprocess.run(args, stdout = subprocess.PIPE, stderr = subprocess.PIPE)\n",
    "if run.returncode == 0:\n",
    "    pass\n",
    "else:\n",
    "    print(run.stdout.decode())\n",
    "    print(run.stderr.decode())"
   ]
  }
 ],
 "metadata": {
  "celltoolbar": "Initialization Cell",
  "kernelspec": {
   "display_name": "Python 3",
   "language": "python",
   "name": "python3"
  },
  "language_info": {
   "codemirror_mode": {
    "name": "ipython",
    "version": 3
   },
   "file_extension": ".py",
   "mimetype": "text/x-python",
   "name": "python",
   "nbconvert_exporter": "python",
   "pygments_lexer": "ipython3",
   "version": "3.6.6"
  },
  "toc": {
   "nav_menu": {
    "height": "267px",
    "width": "353px"
   },
   "number_sections": false,
   "sideBar": false,
   "skip_h1_title": false,
   "toc_cell": false,
   "toc_position": {
    "height": "366px",
    "left": "1115.71875px",
    "right": "20.28125px",
    "top": "120px",
    "width": "429px"
   },
   "toc_section_display": "none",
   "toc_window_display": false
  },
  "varInspector": {
   "cols": {
    "lenName": 16,
    "lenType": 16,
    "lenVar": 40
   },
   "kernels_config": {
    "python": {
     "delete_cmd_postfix": "",
     "delete_cmd_prefix": "del ",
     "library": "var_list.py",
     "varRefreshCmd": "print(var_dic_list())"
    },
    "r": {
     "delete_cmd_postfix": ") ",
     "delete_cmd_prefix": "rm(",
     "library": "var_list.r",
     "varRefreshCmd": "cat(var_dic_list()) "
    }
   },
   "position": {
    "height": "594px",
    "left": "947px",
    "right": "24px",
    "top": "75px",
    "width": "594px"
   },
   "types_to_exclude": [
    "module",
    "function",
    "builtin_function_or_method",
    "instance",
    "_Feature"
   ],
   "window_display": false
  }
 },
 "nbformat": 4,
 "nbformat_minor": 2
}
