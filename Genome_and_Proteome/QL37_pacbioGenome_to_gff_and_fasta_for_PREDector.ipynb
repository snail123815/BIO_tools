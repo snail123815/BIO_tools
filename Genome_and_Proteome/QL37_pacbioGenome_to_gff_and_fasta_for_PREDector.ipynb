{
 "cells": [
  {
   "cell_type": "code",
   "execution_count": 14,
   "metadata": {
    "ExecuteTime": {
     "end_time": "2018-02-13T11:40:54.831574Z",
     "start_time": "2018-02-13T11:40:54.822154Z"
    }
   },
   "outputs": [],
   "source": [
    "from Bio import SeqIO\n",
    "from Bio.Seq import Seq\n",
    "from Bio.SeqRecord import SeqRecord\n",
    "\n",
    "from BCBio import GFF\n",
    "import pathlib # for checking the existance of a file\n",
    "import os\n",
    "path2Works = '/mnt/d/WORKs'"
   ]
  },
  {
   "cell_type": "code",
   "execution_count": 19,
   "metadata": {
    "ExecuteTime": {
     "end_time": "2018-02-13T11:49:26.838239Z",
     "start_time": "2018-02-13T11:49:24.967879Z"
    }
   },
   "outputs": [
    {
     "data": {
      "text/plain": [
       "7"
      ]
     },
     "execution_count": 19,
     "metadata": {},
     "output_type": "execute_result"
    }
   ],
   "source": [
    "ql37Contigs = list(SeqIO.parse(os.path.join(path2Works, 'Misc.files/Streptomyces_genomes/QL37/QL37_pacbio.gbk'), 'genbank'))\n",
    "len(ql37Contigs)"
   ]
  },
  {
   "cell_type": "code",
   "execution_count": 4,
   "metadata": {
    "ExecuteTime": {
     "end_time": "2018-02-13T11:23:41.529462Z",
     "start_time": "2018-02-13T11:23:41.303059Z"
    }
   },
   "outputs": [
    {
     "data": {
      "text/plain": [
       "SeqRecord(seq=Seq('ACACCAGGTCAGCAGCTAGCTGATGTTGCAACTACGCAGGTAACTGACAGTCCA...CCG', IUPACAmbiguousDNA()), id='<unknown id>', name='<unknown name>', description='Streptomyces Streptomyces sp. ME01-21h strain strain', dbxrefs=[])"
      ]
     },
     "execution_count": 4,
     "metadata": {},
     "output_type": "execute_result"
    }
   ],
   "source": [
    "ql37Allinone = ql37Contigs[0]\n",
    "for idx, contig in enumerate(ql37Contigs):\n",
    "    if idx > 0:\n",
    "        ql37Allinone += contig\n",
    "ql37Allinone"
   ]
  },
  {
   "cell_type": "code",
   "execution_count": 5,
   "metadata": {
    "ExecuteTime": {
     "end_time": "2018-02-13T11:26:22.661662Z",
     "start_time": "2018-02-13T11:26:22.651717Z"
    }
   },
   "outputs": [
    {
     "data": {
      "text/plain": [
       "SeqRecord(seq=Seq('ACACCAGGTCAGCAGCTAGCTGATGTTGCAACTACGCAGGTAACTGACAGTCCA...CCG', IUPACAmbiguousDNA()), id='QL37', name='QL37', description='Streptomyces sp. QL37', dbxrefs=[])"
      ]
     },
     "execution_count": 5,
     "metadata": {},
     "output_type": "execute_result"
    }
   ],
   "source": [
    "ql37Allinone.id = 'QL37'\n",
    "ql37Allinone.name = 'QL37'\n",
    "ql37Allinone.description = 'Streptomyces sp. QL37'\n",
    "ql37Allinone"
   ]
  },
  {
   "cell_type": "code",
   "execution_count": 9,
   "metadata": {
    "ExecuteTime": {
     "end_time": "2018-02-13T11:27:51.908535Z",
     "start_time": "2018-02-13T11:27:51.875534Z"
    }
   },
   "outputs": [
    {
     "name": "stdout",
     "output_type": "stream",
     "text": [
      "type: source\n",
      "location: [0:4717460](+)\n",
      "qualifiers:\n",
      "    Key: mol_type, Value: ['genomic DNA']\n",
      "    Key: organism, Value: ['Streptomyces Streptomyces sp. ME01-21h']\n",
      "    Key: strain, Value: ['strain']\n",
      "\n",
      "type: CDS\n",
      "location: [15:447](-)\n",
      "qualifiers:\n",
      "    Key: codon_start, Value: ['1']\n",
      "    Key: inference, Value: ['ab initio prediction:Prodigal:2.50']\n",
      "    Key: locus_tag, Value: ['Prokka_00001']\n",
      "    Key: product, Value: ['hypothetical protein']\n",
      "    Key: transl_table, Value: ['11']\n",
      "    Key: translation, Value: ['MAGTPAEYSDMSRTRTRRTLLTAGALLGAGALLGAAAPSGATGRVLLERRLDDRLVELTVESPALGGRSTVALLTPRGWDRRRPGDRWPTLYLFAGGDGDHTTWTSLFRVQDLAELNDVLVVMPAMPLFGFWTVSYLRSCNIS']\n",
      "\n",
      "type: CDS\n",
      "location: [756:2535](-)\n",
      "qualifiers:\n",
      "    Key: codon_start, Value: ['1']\n",
      "    Key: inference, Value: ['ab initio prediction:Prodigal:2.50']\n",
      "    Key: locus_tag, Value: ['Prokka_00002']\n",
      "    Key: product, Value: ['hypothetical protein']\n",
      "    Key: transl_table, Value: ['11']\n",
      "    Key: translation, Value: ['MTVGGHLTSYSHARFRRTRGLVVALALTVAALATGTPGAQADEPREPSDITVELPADTYSRMLVDEARQRVYVTTGGVSATVNAILVYDFAGNLLRTVTTGSTYAAGAMTLSADGSILYVAVADYVLVFNPDTFAYVGGGWVKSDFRAGLCSGDLGITGGRLWVTRKSSQEYPKDCSTEVQALWSGAPTGGTFTYSGSLVSAKFATSPGFPGKIVQAYATYGTPKLVVGVYDATTAYTKQLALRTYTAATDPATLPKDIAVSPDGSVMAVAAGTAGTKTLSTTGLSDAAPGYGSLPAGTTSTAVAFSPDGSLIARGGAVEGKAADLLVERVEPEQGDTPRVYAFTDGSAGGDQVADRGLAFSSDGSRLFAMTTNAAKDSYWLHIISNPDARYNSAFDGPPTVEPGSPFVGQAVRISGRLRLNGPAPDEATRVTAVRHDADGDHAVPAVTVAQDGAFNLEDTPSTTGKTTYTLSFAGDAAHDPAPDATVDVEVAKAPTELTLEEPEGTTTTGLVLHGTLSTAGTPLPEGTLVAVQRWTKTGVTDLRPALVGPDGGFTVTDAPPALGSTLYTVSYAGDALHDASANWVTAPATG']\n",
      "\n",
      "type: sig_peptide\n",
      "location: [2409:2535](-)\n",
      "qualifiers:\n",
      "    Key: inference, Value: ['ab initio prediction:SignalP:4.1']\n",
      "    Key: locus_tag, Value: ['Prokka_00002']\n",
      "    Key: note, Value: ['predicted cleavage at residue 42']\n",
      "\n"
     ]
    }
   ],
   "source": [
    "for idx, feat in enumerate(ql37Allinone.features):\n",
    "    print(feat)\n",
    "    if idx == 3:\n",
    "        break"
   ]
  },
  {
   "cell_type": "code",
   "execution_count": 22,
   "metadata": {
    "ExecuteTime": {
     "end_time": "2018-02-13T11:55:31.984041Z",
     "start_time": "2018-02-13T11:55:31.498629Z"
    }
   },
   "outputs": [],
   "source": [
    "ql37AllinoneShadow = ql37Allinone[:]\n",
    "ql37Simple = SeqRecord(ql37Allinone.seq, id = 'QL37', name = 'QL37', description='Streptomyces sp. QL37 CDS only')\n",
    "for idx, feat in enumerate(ql37AllinoneShadow.features):\n",
    "    if feat.type == 'CDS' and 'locus_tag' in feat.qualifiers:\n",
    "        feat.qualifiers['ID'] = feat.qualifiers['locus_tag']\n",
    "        try:\n",
    "            feat.qualifiers['Name'] = feat.qualifiers['gene']\n",
    "        except:\n",
    "            feat.qualifiers['Name'] = feat.qualifiers['product']\n",
    "        ql37Simple.features.append(feat)"
   ]
  },
  {
   "cell_type": "code",
   "execution_count": 23,
   "metadata": {
    "ExecuteTime": {
     "end_time": "2018-02-13T11:55:36.904204Z",
     "start_time": "2018-02-13T11:55:34.009825Z"
    }
   },
   "outputs": [
    {
     "data": {
      "text/plain": [
       "1"
      ]
     },
     "execution_count": 23,
     "metadata": {},
     "output_type": "execute_result"
    }
   ],
   "source": [
    "SeqIO.write(ql37Simple,os.path.join(path2Works, f\"Misc.files/Streptomyces_genomes/QL37/QL37_pacbio_allInOne_CDSonly.genbank\"), 'genbank')"
   ]
  },
  {
   "cell_type": "code",
   "execution_count": 24,
   "metadata": {
    "ExecuteTime": {
     "end_time": "2018-02-13T11:55:40.232621Z",
     "start_time": "2018-02-13T11:55:36.930671Z"
    }
   },
   "outputs": [],
   "source": [
    "with open(os.path.join(path2Works, f\"Misc.files/Streptomyces_genomes/QL37/QL37_pacbio_allInOne_CDSonly.genbank\"), 'r') as source,\\\n",
    "open(os.path.join(path2Works, f\"Misc.files/Streptomyces_genomes/QL37/QL37_pacbio_allInOne.gff\"), 'w') as targetGff,\\\n",
    "open(os.path.join(path2Works, f\"Misc.files/Streptomyces_genomes/QL37/QL37_pacbio_allInOne.fasta\"), 'w') as targetFasta:\n",
    "    sourceObj = list(SeqIO.parse(source, 'genbank'))\n",
    "    GFF.write(sourceObj, targetGff)\n",
    "    SeqIO.write(sourceObj, targetFasta, 'fasta')"
   ]
  },
  {
   "cell_type": "code",
   "execution_count": null,
   "metadata": {},
   "outputs": [],
   "source": []
  }
 ],
 "metadata": {
  "kernelspec": {
   "display_name": "Python 3",
   "language": "python",
   "name": "python3"
  },
  "language_info": {
   "codemirror_mode": {
    "name": "ipython",
    "version": 3
   },
   "file_extension": ".py",
   "mimetype": "text/x-python",
   "name": "python",
   "nbconvert_exporter": "python",
   "pygments_lexer": "ipython3",
   "version": "3.6.3"
  },
  "toc": {
   "nav_menu": {},
   "number_sections": false,
   "sideBar": false,
   "skip_h1_title": false,
   "toc_cell": false,
   "toc_position": {},
   "toc_section_display": "block",
   "toc_window_display": false
  },
  "varInspector": {
   "cols": {
    "lenName": "30",
    "lenType": "16",
    "lenVar": 40
   },
   "kernels_config": {
    "python": {
     "delete_cmd_postfix": "",
     "delete_cmd_prefix": "del ",
     "library": "var_list.py",
     "varRefreshCmd": "print(var_dic_list())"
    },
    "r": {
     "delete_cmd_postfix": ") ",
     "delete_cmd_prefix": "rm(",
     "library": "var_list.r",
     "varRefreshCmd": "cat(var_dic_list()) "
    }
   },
   "types_to_exclude": [
    "module",
    "function",
    "builtin_function_or_method",
    "instance",
    "_Feature"
   ],
   "window_display": false
  }
 },
 "nbformat": 4,
 "nbformat_minor": 2
}
