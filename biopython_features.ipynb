{
 "cells": [
  {
   "cell_type": "markdown",
   "metadata": {},
   "source": [
    "# A: Make a SeqRecord"
   ]
  },
  {
   "cell_type": "code",
   "execution_count": 1,
   "metadata": {
    "collapsed": true
   },
   "outputs": [],
   "source": [
    "# 1. Create a sequence\n",
    "\n",
    "from Bio.Seq import Seq\n",
    "my_sequence = Seq(\"GATCGATCGATCGATCGATCGATCGATCGATC\")"
   ]
  },
  {
   "cell_type": "code",
   "execution_count": 2,
   "metadata": {
    "collapsed": true
   },
   "outputs": [],
   "source": [
    "# 2. Create a SeqRecord and assign the sequence to it\n",
    "\n",
    "from Bio.SeqRecord import SeqRecord\n",
    "my_sequence_record = SeqRecord(my_sequence)"
   ]
  },
  {
   "cell_type": "code",
   "execution_count": 3,
   "metadata": {
    "collapsed": true
   },
   "outputs": [],
   "source": [
    "# 3. Assign an alphabet to the sequence (in this case DNA)\n",
    "\n",
    "from Bio.Alphabet import generic_dna\n",
    "my_sequence_record.seq.alphabet = generic_dna"
   ]
  },
  {
   "cell_type": "markdown",
   "metadata": {},
   "source": [
    "This is the minimum required info for BioPython to be able to output the SeqRecord in Genbank format.You probably would want to add other info (e.g. locus, organism, date etc)"
   ]
  },
  {
   "cell_type": "code",
   "execution_count": 4,
   "metadata": {
    "collapsed": false
   },
   "outputs": [
    {
     "name": "stdout",
     "output_type": "stream",
     "text": [
      "\n",
      "This bit is the SeqRecord, printed out in genbank format, with no features added.\n",
      "\n",
      "LOCUS       .                         32 bp    DNA              UNK 01-JAN-1980\n",
      "DEFINITION  .\n",
      "ACCESSION   <unknown id>\n",
      "VERSION     <unknown id>\n",
      "KEYWORDS    .\n",
      "SOURCE      .\n",
      "  ORGANISM  .\n",
      "            .\n",
      "FEATURES             Location/Qualifiers\n",
      "ORIGIN\n",
      "        1 gatcgatcga tcgatcgatc gatcgatcga tc\n",
      "//\n",
      "\n"
     ]
    }
   ],
   "source": [
    "#optional: print the SeqRecord to STDOUT in genbank format.. note there are no features on it yet.\n",
    "\n",
    "print \"\\nThis bit is the SeqRecord, printed out in genbank format, with no features added.\\n\"\n",
    "print(my_sequence_record.format(\"gb\"))\n"
   ]
  },
  {
   "cell_type": "markdown",
   "metadata": {},
   "source": [
    "# B: Make a SeqFeature"
   ]
  },
  {
   "cell_type": "code",
   "execution_count": 5,
   "metadata": {
    "collapsed": true
   },
   "outputs": [],
   "source": [
    "#1. Create a start location and end location for the feature\n",
    "#    Obviously this can be AfterPosition, BeforePosition etc.,\n",
    "#    to handle ambiguous or unknown positions\n",
    "\n",
    "from Bio import SeqFeature\n",
    "my_start_pos = SeqFeature.ExactPosition(2)\n",
    "my_end_pos = SeqFeature.ExactPosition(6)"
   ]
  },
  {
   "cell_type": "code",
   "execution_count": 6,
   "metadata": {
    "collapsed": true
   },
   "outputs": [],
   "source": [
    "# 2. Use the locations do define a FeatureLocation\n",
    "\n",
    "from Bio.SeqFeature import FeatureLocation\n",
    "my_feature_location = FeatureLocation(my_start_pos,my_end_pos)"
   ]
  },
  {
   "cell_type": "code",
   "execution_count": 7,
   "metadata": {
    "collapsed": true
   },
   "outputs": [],
   "source": [
    "# 3. Define a feature type as a text string \n",
    "#     (you can also just add the type when creating the SeqFeature)\n",
    "\n",
    "my_feature_type = \"CDS\""
   ]
  },
  {
   "cell_type": "code",
   "execution_count": 8,
   "metadata": {
    "collapsed": true
   },
   "outputs": [],
   "source": [
    "# 4. Create a SeqFeature\n",
    "\n",
    "from Bio.SeqFeature import SeqFeature\n",
    "my_feature = SeqFeature(my_feature_location,type=my_feature_type)"
   ]
  },
  {
   "cell_type": "code",
   "execution_count": 9,
   "metadata": {
    "collapsed": true
   },
   "outputs": [],
   "source": [
    "# 5. Append your newly created SeqFeature to your SeqRecord\n",
    "\n",
    "my_sequence_record.features.append(my_feature)"
   ]
  },
  {
   "cell_type": "code",
   "execution_count": 10,
   "metadata": {
    "collapsed": false
   },
   "outputs": [
    {
     "name": "stdout",
     "output_type": "stream",
     "text": [
      "\n",
      "This bit is the SeqRecord, printed out in genbank format, with a feature added.\n",
      "\n",
      "LOCUS       .                         32 bp    DNA              UNK 01-JAN-1980\n",
      "DEFINITION  .\n",
      "ACCESSION   <unknown id>\n",
      "VERSION     <unknown id>\n",
      "KEYWORDS    .\n",
      "SOURCE      .\n",
      "  ORGANISM  .\n",
      "            .\n",
      "FEATURES             Location/Qualifiers\n",
      "     CDS             3..6\n",
      "ORIGIN\n",
      "        1 gatcgatcga tcgatcgatc gatcgatcga tc\n",
      "//\n",
      "\n"
     ]
    }
   ],
   "source": [
    "#optional: print the SeqRecord to STDOUT in genbank format, with your new feature added.\n",
    "\n",
    "print \"\\nThis bit is the SeqRecord, printed out in genbank format, with a feature added.\\n\"\n",
    "print(my_sequence_record.format(\"gb\"))"
   ]
  },
  {
   "cell_type": "markdown",
   "metadata": {},
   "source": [
    "# C: Overwrite an existing SeqFeature"
   ]
  },
  {
   "cell_type": "code",
   "execution_count": 11,
   "metadata": {
    "collapsed": true
   },
   "outputs": [],
   "source": [
    "# 1. Create a start location and end location for the feature.. \n",
    "#    This bit is obviously a repeat of \"B: Make a SeqFeature\" above, \n",
    "#   normally I'd pull it out to a function, but I'm trying to be explicit here\n",
    "\n",
    "from Bio import SeqFeature\n",
    "my_start_pos = SeqFeature.ExactPosition(3)\n",
    "my_end_pos = SeqFeature.ExactPosition(7)"
   ]
  },
  {
   "cell_type": "code",
   "execution_count": 12,
   "metadata": {
    "collapsed": true
   },
   "outputs": [],
   "source": [
    "# 2. Use the locations do define a FeatureLocation\n",
    "\n",
    "from Bio.SeqFeature import FeatureLocation\n",
    "my_feature_location2 = FeatureLocation(my_start_pos,my_end_pos)"
   ]
  },
  {
   "cell_type": "code",
   "execution_count": 13,
   "metadata": {
    "collapsed": true
   },
   "outputs": [],
   "source": [
    "## 3. Define a feature type as a text string \n",
    "##    (or you can also just add the type when creating the SeqFeature)\n",
    "\n",
    "my_feature_type2 = \"ABC\""
   ]
  },
  {
   "cell_type": "code",
   "execution_count": 14,
   "metadata": {
    "collapsed": true
   },
   "outputs": [],
   "source": [
    "## 4. Create a SeqFeature\n",
    "\n",
    "from Bio.SeqFeature import SeqFeature\n",
    "my_feature2 = SeqFeature(my_feature_location2,type=my_feature_type2)\n",
    "my_sequence_record.features[0]=my_feature2"
   ]
  },
  {
   "cell_type": "code",
   "execution_count": 15,
   "metadata": {
    "collapsed": false
   },
   "outputs": [
    {
     "name": "stdout",
     "output_type": "stream",
     "text": [
      "\n",
      "This bit is the SeqRecord, printed out in genbank format, with a feature changed.\n",
      "\n",
      "LOCUS       .                         32 bp    DNA              UNK 01-JAN-1980\n",
      "DEFINITION  .\n",
      "ACCESSION   <unknown id>\n",
      "VERSION     <unknown id>\n",
      "KEYWORDS    .\n",
      "SOURCE      .\n",
      "  ORGANISM  .\n",
      "            .\n",
      "FEATURES             Location/Qualifiers\n",
      "     ABC             4..7\n",
      "ORIGIN\n",
      "        1 gatcgatcga tcgatcgatc gatcgatcga tc\n",
      "//\n",
      "\n"
     ]
    }
   ],
   "source": [
    "#optional: print the SeqRecord to STDOUT in genbank format, with your new feature changed.\n",
    "\n",
    "print \"\\nThis bit is the SeqRecord, printed out in genbank format, with a feature changed.\\n\"\n",
    "print(my_sequence_record.format(\"gb\"))"
   ]
  },
  {
   "cell_type": "code",
   "execution_count": null,
   "metadata": {
    "collapsed": true
   },
   "outputs": [],
   "source": []
  }
 ],
 "metadata": {
  "kernelspec": {
   "display_name": "Python 3",
   "language": "python",
   "name": "python3"
  },
  "language_info": {
   "codemirror_mode": {
    "name": "ipython",
    "version": 3
   },
   "file_extension": ".py",
   "mimetype": "text/x-python",
   "name": "python",
   "nbconvert_exporter": "python",
   "pygments_lexer": "ipython3",
   "version": "3.5.2"
  }
 },
 "nbformat": 4,
 "nbformat_minor": 1
}
